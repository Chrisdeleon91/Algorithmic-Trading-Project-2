{
 "cells": [
  {
   "cell_type": "code",
   "execution_count": 4,
   "id": "960bf716-3052-4efc-9a44-e0ed195c7fbd",
   "metadata": {
    "tags": []
   },
   "outputs": [],
   "source": [
    "# Imports\n",
    "import pandas as pd\n",
    "import numpy as np\n",
    "from pathlib import Path\n",
    "import hvplot.pandas\n",
    "import matplotlib.pyplot as plt\n",
    "from sklearn import svm\n",
    "from sklearn.preprocessing import StandardScaler\n",
    "from pandas.tseries.offsets import DateOffset\n",
    "from sklearn.metrics import classification_report"
   ]
  },
  {
   "cell_type": "code",
   "execution_count": 5,
   "id": "a6d0d086-820f-461e-a3b9-7f5a36dd0047",
   "metadata": {
    "tags": []
   },
   "outputs": [],
   "source": [
    "### Step 1: Import the CRYPTO dataset into a Pandas DataFrame."
   ]
  },
  {
   "cell_type": "code",
   "execution_count": 6,
   "id": "7490ab00-5635-4c3f-b0c7-ae99660c93cc",
   "metadata": {
    "tags": []
   },
   "outputs": [
    {
     "name": "stderr",
     "output_type": "stream",
     "text": [
      "C:\\Users\\chris\\AppData\\Local\\Temp\\ipykernel_38464\\201517330.py:3: FutureWarning: The argument 'infer_datetime_format' is deprecated and will be removed in a future version. A strict version of it is now the default, see https://pandas.pydata.org/pdeps/0004-consistent-to-datetime-parsing.html. You can safely remove this argument.\n",
      "  bitcoin_df = pd.read_csv(\n"
     ]
    },
    {
     "data": {
      "text/html": [
       "<div>\n",
       "<style scoped>\n",
       "    .dataframe tbody tr th:only-of-type {\n",
       "        vertical-align: middle;\n",
       "    }\n",
       "\n",
       "    .dataframe tbody tr th {\n",
       "        vertical-align: top;\n",
       "    }\n",
       "\n",
       "    .dataframe thead th {\n",
       "        text-align: right;\n",
       "    }\n",
       "</style>\n",
       "<table border=\"1\" class=\"dataframe\">\n",
       "  <thead>\n",
       "    <tr style=\"text-align: right;\">\n",
       "      <th></th>\n",
       "      <th>Value</th>\n",
       "      <th>Value_Classification</th>\n",
       "      <th>BTC_Closing</th>\n",
       "      <th>BTC_Volume</th>\n",
       "    </tr>\n",
       "    <tr>\n",
       "      <th>Date</th>\n",
       "      <th></th>\n",
       "      <th></th>\n",
       "      <th></th>\n",
       "      <th></th>\n",
       "    </tr>\n",
       "  </thead>\n",
       "  <tbody>\n",
       "    <tr>\n",
       "      <th>2018-02-01</th>\n",
       "      <td>30.0</td>\n",
       "      <td>Fear</td>\n",
       "      <td>9170.540039</td>\n",
       "      <td>9959400448</td>\n",
       "    </tr>\n",
       "    <tr>\n",
       "      <th>2018-02-02</th>\n",
       "      <td>15.0</td>\n",
       "      <td>Extreme Fear</td>\n",
       "      <td>8830.750000</td>\n",
       "      <td>12726899712</td>\n",
       "    </tr>\n",
       "    <tr>\n",
       "      <th>2018-02-03</th>\n",
       "      <td>40.0</td>\n",
       "      <td>Fear</td>\n",
       "      <td>9174.910156</td>\n",
       "      <td>7263790080</td>\n",
       "    </tr>\n",
       "    <tr>\n",
       "      <th>2018-02-04</th>\n",
       "      <td>24.0</td>\n",
       "      <td>Extreme Fear</td>\n",
       "      <td>8277.009766</td>\n",
       "      <td>7073549824</td>\n",
       "    </tr>\n",
       "    <tr>\n",
       "      <th>2018-02-05</th>\n",
       "      <td>11.0</td>\n",
       "      <td>Extreme Fear</td>\n",
       "      <td>6955.270020</td>\n",
       "      <td>9285289984</td>\n",
       "    </tr>\n",
       "  </tbody>\n",
       "</table>\n",
       "</div>"
      ],
      "text/plain": [
       "            Value Value_Classification  BTC_Closing   BTC_Volume\n",
       "Date                                                            \n",
       "2018-02-01   30.0                 Fear  9170.540039   9959400448\n",
       "2018-02-02   15.0         Extreme Fear  8830.750000  12726899712\n",
       "2018-02-03   40.0                 Fear  9174.910156   7263790080\n",
       "2018-02-04   24.0         Extreme Fear  8277.009766   7073549824\n",
       "2018-02-05   11.0         Extreme Fear  6955.270020   9285289984"
      ]
     },
     "execution_count": 6,
     "metadata": {},
     "output_type": "execute_result"
    }
   ],
   "source": [
    "# Import the Crypto dataset into a Pandas Dataframe\n",
    "\n",
    "bitcoin_df = pd.read_csv(\n",
    "    Path(\"Resources/bitcoin-fear-greed-dataset.csv\"), \n",
    "    index_col='Date', \n",
    "    infer_datetime_format=True, \n",
    "    parse_dates=True\n",
    ")\n",
    "\n",
    "# Review the DataFrame\n",
    "bitcoin_df.head()"
   ]
  },
  {
   "cell_type": "code",
   "execution_count": 7,
   "id": "5017a727-fd56-4fc8-8454-f2b8d96a84ba",
   "metadata": {
    "tags": []
   },
   "outputs": [
    {
     "data": {
      "text/plain": [
       "<Axes: xlabel='Date'>"
      ]
     },
     "execution_count": 7,
     "metadata": {},
     "output_type": "execute_result"
    },
    {
     "data": {
      "image/png": "[encoded data removed]",
      "text/plain": [
       "<Figure size 640x480 with 1 Axes>"
      ]
     },
     "metadata": {},
     "output_type": "display_data"
    }
   ],
   "source": [
    "# Plot the actual returns versus the strategy returns\n",
    "bitcoin_df[\"Value\"].plot()"
   ]
  },
  {
   "cell_type": "code",
   "execution_count": 8,
   "id": "95a753e5-f569-472f-a960-16cf015298af",
   "metadata": {
    "tags": []
   },
   "outputs": [
    {
     "data": {
      "text/html": [
       "<div>\n",
       "<style scoped>\n",
       "    .dataframe tbody tr th:only-of-type {\n",
       "        vertical-align: middle;\n",
       "    }\n",
       "\n",
       "    .dataframe tbody tr th {\n",
       "        vertical-align: top;\n",
       "    }\n",
       "\n",
       "    .dataframe thead th {\n",
       "        text-align: right;\n",
       "    }\n",
       "</style>\n",
       "<table border=\"1\" class=\"dataframe\">\n",
       "  <thead>\n",
       "    <tr style=\"text-align: right;\">\n",
       "      <th></th>\n",
       "      <th>Value</th>\n",
       "      <th>BTC_Closing</th>\n",
       "      <th>Actual_Returns</th>\n",
       "    </tr>\n",
       "    <tr>\n",
       "      <th>Date</th>\n",
       "      <th></th>\n",
       "      <th></th>\n",
       "      <th></th>\n",
       "    </tr>\n",
       "  </thead>\n",
       "  <tbody>\n",
       "    <tr>\n",
       "      <th>2018-02-02</th>\n",
       "      <td>15.0</td>\n",
       "      <td>8830.750000</td>\n",
       "      <td>-0.037052</td>\n",
       "    </tr>\n",
       "    <tr>\n",
       "      <th>2018-02-03</th>\n",
       "      <td>40.0</td>\n",
       "      <td>9174.910156</td>\n",
       "      <td>0.038973</td>\n",
       "    </tr>\n",
       "    <tr>\n",
       "      <th>2018-02-04</th>\n",
       "      <td>24.0</td>\n",
       "      <td>8277.009766</td>\n",
       "      <td>-0.097865</td>\n",
       "    </tr>\n",
       "    <tr>\n",
       "      <th>2018-02-05</th>\n",
       "      <td>11.0</td>\n",
       "      <td>6955.270020</td>\n",
       "      <td>-0.159688</td>\n",
       "    </tr>\n",
       "    <tr>\n",
       "      <th>2018-02-06</th>\n",
       "      <td>8.0</td>\n",
       "      <td>7754.000000</td>\n",
       "      <td>0.114838</td>\n",
       "    </tr>\n",
       "  </tbody>\n",
       "</table>\n",
       "</div>"
      ],
      "text/plain": [
       "            Value  BTC_Closing  Actual_Returns\n",
       "Date                                          \n",
       "2018-02-02   15.0  8830.750000       -0.037052\n",
       "2018-02-03   40.0  9174.910156        0.038973\n",
       "2018-02-04   24.0  8277.009766       -0.097865\n",
       "2018-02-05   11.0  6955.270020       -0.159688\n",
       "2018-02-06    8.0  7754.000000        0.114838"
      ]
     },
     "metadata": {},
     "output_type": "display_data"
    },
    {
     "data": {
      "text/html": [
       "<div>\n",
       "<style scoped>\n",
       "    .dataframe tbody tr th:only-of-type {\n",
       "        vertical-align: middle;\n",
       "    }\n",
       "\n",
       "    .dataframe tbody tr th {\n",
       "        vertical-align: top;\n",
       "    }\n",
       "\n",
       "    .dataframe thead th {\n",
       "        text-align: right;\n",
       "    }\n",
       "</style>\n",
       "<table border=\"1\" class=\"dataframe\">\n",
       "  <thead>\n",
       "    <tr style=\"text-align: right;\">\n",
       "      <th></th>\n",
       "      <th>Value</th>\n",
       "      <th>BTC_Closing</th>\n",
       "      <th>Actual_Returns</th>\n",
       "    </tr>\n",
       "    <tr>\n",
       "      <th>Date</th>\n",
       "      <th></th>\n",
       "      <th></th>\n",
       "      <th></th>\n",
       "    </tr>\n",
       "  </thead>\n",
       "  <tbody>\n",
       "    <tr>\n",
       "      <th>2023-03-27</th>\n",
       "      <td>64.0</td>\n",
       "      <td>27139.888672</td>\n",
       "      <td>-0.030522</td>\n",
       "    </tr>\n",
       "    <tr>\n",
       "      <th>2023-03-28</th>\n",
       "      <td>59.0</td>\n",
       "      <td>27268.130859</td>\n",
       "      <td>0.004725</td>\n",
       "    </tr>\n",
       "    <tr>\n",
       "      <th>2023-03-29</th>\n",
       "      <td>57.0</td>\n",
       "      <td>28348.441406</td>\n",
       "      <td>0.039618</td>\n",
       "    </tr>\n",
       "    <tr>\n",
       "      <th>2023-03-30</th>\n",
       "      <td>60.0</td>\n",
       "      <td>28033.562500</td>\n",
       "      <td>-0.011107</td>\n",
       "    </tr>\n",
       "    <tr>\n",
       "      <th>2023-03-31</th>\n",
       "      <td>63.0</td>\n",
       "      <td>28478.484375</td>\n",
       "      <td>0.015871</td>\n",
       "    </tr>\n",
       "  </tbody>\n",
       "</table>\n",
       "</div>"
      ],
      "text/plain": [
       "            Value   BTC_Closing  Actual_Returns\n",
       "Date                                           \n",
       "2023-03-27   64.0  27139.888672       -0.030522\n",
       "2023-03-28   59.0  27268.130859        0.004725\n",
       "2023-03-29   57.0  28348.441406        0.039618\n",
       "2023-03-30   60.0  28033.562500       -0.011107\n",
       "2023-03-31   63.0  28478.484375        0.015871"
      ]
     },
     "metadata": {},
     "output_type": "display_data"
    }
   ],
   "source": [
    "# Filter the date index and close columns\n",
    "signals_df = bitcoin_df.loc[:, [\"Value\", \"BTC_Closing\"]]\n",
    "\n",
    "# Use the pct_change function to generate returns from close prices\n",
    "signals_df[\"Actual_Returns\"] = signals_df[\"BTC_Closing\"].pct_change()\n",
    "\n",
    "# Drop all NaN values from the DataFrame\n",
    "signals_df = signals_df.dropna()\n",
    "\n",
    "# Review the DataFrame\n",
    "display(signals_df.head())\n",
    "display(signals_df.tail())"
   ]
  },
  {
   "cell_type": "code",
   "execution_count": 9,
   "id": "60665c9a-e288-4a8a-bfe1-9705e12f1868",
   "metadata": {},
   "outputs": [],
   "source": [
    "### Step 2: Generate trading signals using short- and long-window SMA values. "
   ]
  },
  {
   "cell_type": "code",
   "execution_count": 10,
   "id": "9638ce5a-e4e1-4ab3-8962-e7167cdbe852",
   "metadata": {
    "tags": []
   },
   "outputs": [
    {
     "data": {
      "text/html": [
       "<div>\n",
       "<style scoped>\n",
       "    .dataframe tbody tr th:only-of-type {\n",
       "        vertical-align: middle;\n",
       "    }\n",
       "\n",
       "    .dataframe tbody tr th {\n",
       "        vertical-align: top;\n",
       "    }\n",
       "\n",
       "    .dataframe thead th {\n",
       "        text-align: right;\n",
       "    }\n",
       "</style>\n",
       "<table border=\"1\" class=\"dataframe\">\n",
       "  <thead>\n",
       "    <tr style=\"text-align: right;\">\n",
       "      <th></th>\n",
       "      <th>Value</th>\n",
       "      <th>BTC_Closing</th>\n",
       "      <th>Actual_Returns</th>\n",
       "      <th>SMA_Fast</th>\n",
       "      <th>SMA_Slow</th>\n",
       "    </tr>\n",
       "    <tr>\n",
       "      <th>Date</th>\n",
       "      <th></th>\n",
       "      <th></th>\n",
       "      <th></th>\n",
       "      <th></th>\n",
       "      <th></th>\n",
       "    </tr>\n",
       "  </thead>\n",
       "  <tbody>\n",
       "    <tr>\n",
       "      <th>2018-05-15</th>\n",
       "      <td>40.0</td>\n",
       "      <td>8510.379883</td>\n",
       "      <td>-0.023680</td>\n",
       "      <td>8614.000000</td>\n",
       "      <td>8901.235811</td>\n",
       "    </tr>\n",
       "    <tr>\n",
       "      <th>2018-05-16</th>\n",
       "      <td>32.0</td>\n",
       "      <td>8368.830078</td>\n",
       "      <td>-0.016633</td>\n",
       "      <td>8579.985107</td>\n",
       "      <td>8896.616611</td>\n",
       "    </tr>\n",
       "    <tr>\n",
       "      <th>2018-05-17</th>\n",
       "      <td>31.0</td>\n",
       "      <td>8094.319824</td>\n",
       "      <td>-0.032802</td>\n",
       "      <td>8422.579956</td>\n",
       "      <td>8885.810708</td>\n",
       "    </tr>\n",
       "    <tr>\n",
       "      <th>2018-05-18</th>\n",
       "      <td>37.0</td>\n",
       "      <td>8250.969727</td>\n",
       "      <td>0.019353</td>\n",
       "      <td>8306.124878</td>\n",
       "      <td>8885.550308</td>\n",
       "    </tr>\n",
       "    <tr>\n",
       "      <th>2018-05-19</th>\n",
       "      <td>31.0</td>\n",
       "      <td>8247.179688</td>\n",
       "      <td>-0.000459</td>\n",
       "      <td>8240.324829</td>\n",
       "      <td>8898.469404</td>\n",
       "    </tr>\n",
       "  </tbody>\n",
       "</table>\n",
       "</div>"
      ],
      "text/plain": [
       "            Value  BTC_Closing  Actual_Returns     SMA_Fast     SMA_Slow\n",
       "Date                                                                    \n",
       "2018-05-15   40.0  8510.379883       -0.023680  8614.000000  8901.235811\n",
       "2018-05-16   32.0  8368.830078       -0.016633  8579.985107  8896.616611\n",
       "2018-05-17   31.0  8094.319824       -0.032802  8422.579956  8885.810708\n",
       "2018-05-18   37.0  8250.969727        0.019353  8306.124878  8885.550308\n",
       "2018-05-19   31.0  8247.179688       -0.000459  8240.324829  8898.469404"
      ]
     },
     "metadata": {},
     "output_type": "display_data"
    }
   ],
   "source": [
    "# Set the short window and long window\n",
    "short_window = 4\n",
    "long_window = 100\n",
    "\n",
    "# Generate the fast and slow simple moving averages (4 and 100 days, respectively)\n",
    "signals_df['SMA_Fast'] = signals_df['BTC_Closing'].rolling(window=short_window).mean()\n",
    "signals_df['SMA_Slow'] = signals_df['BTC_Closing'].rolling(window=long_window).mean()\n",
    "\n",
    "signals_df = signals_df.dropna()\n",
    "\n",
    "# Review the DataFrame\n",
    "display(signals_df.head())"
   ]
  },
  {
   "cell_type": "code",
   "execution_count": 11,
   "id": "c528b2c6-250a-4ff6-898a-05b52e13c4a5",
   "metadata": {
    "tags": []
   },
   "outputs": [
    {
     "data": {
      "text/html": [
       "<div>\n",
       "<style scoped>\n",
       "    .dataframe tbody tr th:only-of-type {\n",
       "        vertical-align: middle;\n",
       "    }\n",
       "\n",
       "    .dataframe tbody tr th {\n",
       "        vertical-align: top;\n",
       "    }\n",
       "\n",
       "    .dataframe thead th {\n",
       "        text-align: right;\n",
       "    }\n",
       "</style>\n",
       "<table border=\"1\" class=\"dataframe\">\n",
       "  <thead>\n",
       "    <tr style=\"text-align: right;\">\n",
       "      <th></th>\n",
       "      <th>Value</th>\n",
       "      <th>BTC_Closing</th>\n",
       "      <th>Actual_Returns</th>\n",
       "      <th>SMA_Fast</th>\n",
       "      <th>SMA_Slow</th>\n",
       "      <th>Signal</th>\n",
       "    </tr>\n",
       "    <tr>\n",
       "      <th>Date</th>\n",
       "      <th></th>\n",
       "      <th></th>\n",
       "      <th></th>\n",
       "      <th></th>\n",
       "      <th></th>\n",
       "      <th></th>\n",
       "    </tr>\n",
       "  </thead>\n",
       "  <tbody>\n",
       "    <tr>\n",
       "      <th>2018-05-15</th>\n",
       "      <td>40.0</td>\n",
       "      <td>8510.379883</td>\n",
       "      <td>-0.023680</td>\n",
       "      <td>8614.000000</td>\n",
       "      <td>8901.235811</td>\n",
       "      <td>-1.0</td>\n",
       "    </tr>\n",
       "    <tr>\n",
       "      <th>2018-05-16</th>\n",
       "      <td>32.0</td>\n",
       "      <td>8368.830078</td>\n",
       "      <td>-0.016633</td>\n",
       "      <td>8579.985107</td>\n",
       "      <td>8896.616611</td>\n",
       "      <td>-1.0</td>\n",
       "    </tr>\n",
       "    <tr>\n",
       "      <th>2018-05-17</th>\n",
       "      <td>31.0</td>\n",
       "      <td>8094.319824</td>\n",
       "      <td>-0.032802</td>\n",
       "      <td>8422.579956</td>\n",
       "      <td>8885.810708</td>\n",
       "      <td>-1.0</td>\n",
       "    </tr>\n",
       "    <tr>\n",
       "      <th>2018-05-18</th>\n",
       "      <td>37.0</td>\n",
       "      <td>8250.969727</td>\n",
       "      <td>0.019353</td>\n",
       "      <td>8306.124878</td>\n",
       "      <td>8885.550308</td>\n",
       "      <td>1.0</td>\n",
       "    </tr>\n",
       "    <tr>\n",
       "      <th>2018-05-19</th>\n",
       "      <td>31.0</td>\n",
       "      <td>8247.179688</td>\n",
       "      <td>-0.000459</td>\n",
       "      <td>8240.324829</td>\n",
       "      <td>8898.469404</td>\n",
       "      <td>-1.0</td>\n",
       "    </tr>\n",
       "  </tbody>\n",
       "</table>\n",
       "</div>"
      ],
      "text/plain": [
       "            Value  BTC_Closing  Actual_Returns     SMA_Fast     SMA_Slow  \\\n",
       "Date                                                                       \n",
       "2018-05-15   40.0  8510.379883       -0.023680  8614.000000  8901.235811   \n",
       "2018-05-16   32.0  8368.830078       -0.016633  8579.985107  8896.616611   \n",
       "2018-05-17   31.0  8094.319824       -0.032802  8422.579956  8885.810708   \n",
       "2018-05-18   37.0  8250.969727        0.019353  8306.124878  8885.550308   \n",
       "2018-05-19   31.0  8247.179688       -0.000459  8240.324829  8898.469404   \n",
       "\n",
       "            Signal  \n",
       "Date                \n",
       "2018-05-15    -1.0  \n",
       "2018-05-16    -1.0  \n",
       "2018-05-17    -1.0  \n",
       "2018-05-18     1.0  \n",
       "2018-05-19    -1.0  "
      ]
     },
     "metadata": {},
     "output_type": "display_data"
    }
   ],
   "source": [
    "# Initialize the new Signal column\n",
    "signals_df['Signal'] = 0.0\n",
    "\n",
    "# When Actual Returns are greater than or equal to 0, generate signal to buy stock long\n",
    "signals_df.loc[(signals_df['Actual_Returns'] >= 0), 'Signal'] = 1\n",
    "\n",
    "# When Actual Returns are less than 0, generate signal to sell stock short\n",
    "signals_df.loc[(signals_df['Actual_Returns'] < 0), 'Signal'] = -1\n",
    "\n",
    "# Review the DataFrame\n",
    "display(signals_df.head())"
   ]
  },
  {
   "cell_type": "code",
   "execution_count": 12,
   "id": "83b5e012-38f9-408b-9c49-3e424fd165fe",
   "metadata": {
    "tags": []
   },
   "outputs": [
    {
     "data": {
      "text/plain": [
       "Signal\n",
       " 1.0    917\n",
       "-1.0    865\n",
       "Name: count, dtype: int64"
      ]
     },
     "execution_count": 12,
     "metadata": {},
     "output_type": "execute_result"
    }
   ],
   "source": [
    "signals_df['Signal'].value_counts()"
   ]
  },
  {
   "cell_type": "code",
   "execution_count": 13,
   "id": "3c7d1e8d-3713-4130-aa4f-b42ed6991abe",
   "metadata": {
    "tags": []
   },
   "outputs": [
    {
     "data": {
      "text/html": [
       "<div>\n",
       "<style scoped>\n",
       "    .dataframe tbody tr th:only-of-type {\n",
       "        vertical-align: middle;\n",
       "    }\n",
       "\n",
       "    .dataframe tbody tr th {\n",
       "        vertical-align: top;\n",
       "    }\n",
       "\n",
       "    .dataframe thead th {\n",
       "        text-align: right;\n",
       "    }\n",
       "</style>\n",
       "<table border=\"1\" class=\"dataframe\">\n",
       "  <thead>\n",
       "    <tr style=\"text-align: right;\">\n",
       "      <th></th>\n",
       "      <th>Value</th>\n",
       "      <th>BTC_Closing</th>\n",
       "      <th>Actual_Returns</th>\n",
       "      <th>SMA_Fast</th>\n",
       "      <th>SMA_Slow</th>\n",
       "      <th>Signal</th>\n",
       "      <th>Strategy_Returns</th>\n",
       "    </tr>\n",
       "    <tr>\n",
       "      <th>Date</th>\n",
       "      <th></th>\n",
       "      <th></th>\n",
       "      <th></th>\n",
       "      <th></th>\n",
       "      <th></th>\n",
       "      <th></th>\n",
       "      <th></th>\n",
       "    </tr>\n",
       "  </thead>\n",
       "  <tbody>\n",
       "    <tr>\n",
       "      <th>2018-05-15</th>\n",
       "      <td>40.0</td>\n",
       "      <td>8510.379883</td>\n",
       "      <td>-0.023680</td>\n",
       "      <td>8614.000000</td>\n",
       "      <td>8901.235811</td>\n",
       "      <td>-1.0</td>\n",
       "      <td>NaN</td>\n",
       "    </tr>\n",
       "    <tr>\n",
       "      <th>2018-05-16</th>\n",
       "      <td>32.0</td>\n",
       "      <td>8368.830078</td>\n",
       "      <td>-0.016633</td>\n",
       "      <td>8579.985107</td>\n",
       "      <td>8896.616611</td>\n",
       "      <td>-1.0</td>\n",
       "      <td>0.016633</td>\n",
       "    </tr>\n",
       "    <tr>\n",
       "      <th>2018-05-17</th>\n",
       "      <td>31.0</td>\n",
       "      <td>8094.319824</td>\n",
       "      <td>-0.032802</td>\n",
       "      <td>8422.579956</td>\n",
       "      <td>8885.810708</td>\n",
       "      <td>-1.0</td>\n",
       "      <td>0.032802</td>\n",
       "    </tr>\n",
       "    <tr>\n",
       "      <th>2018-05-18</th>\n",
       "      <td>37.0</td>\n",
       "      <td>8250.969727</td>\n",
       "      <td>0.019353</td>\n",
       "      <td>8306.124878</td>\n",
       "      <td>8885.550308</td>\n",
       "      <td>1.0</td>\n",
       "      <td>-0.019353</td>\n",
       "    </tr>\n",
       "    <tr>\n",
       "      <th>2018-05-19</th>\n",
       "      <td>31.0</td>\n",
       "      <td>8247.179688</td>\n",
       "      <td>-0.000459</td>\n",
       "      <td>8240.324829</td>\n",
       "      <td>8898.469404</td>\n",
       "      <td>-1.0</td>\n",
       "      <td>-0.000459</td>\n",
       "    </tr>\n",
       "  </tbody>\n",
       "</table>\n",
       "</div>"
      ],
      "text/plain": [
       "            Value  BTC_Closing  Actual_Returns     SMA_Fast     SMA_Slow  \\\n",
       "Date                                                                       \n",
       "2018-05-15   40.0  8510.379883       -0.023680  8614.000000  8901.235811   \n",
       "2018-05-16   32.0  8368.830078       -0.016633  8579.985107  8896.616611   \n",
       "2018-05-17   31.0  8094.319824       -0.032802  8422.579956  8885.810708   \n",
       "2018-05-18   37.0  8250.969727        0.019353  8306.124878  8885.550308   \n",
       "2018-05-19   31.0  8247.179688       -0.000459  8240.324829  8898.469404   \n",
       "\n",
       "            Signal  Strategy_Returns  \n",
       "Date                                  \n",
       "2018-05-15    -1.0               NaN  \n",
       "2018-05-16    -1.0          0.016633  \n",
       "2018-05-17    -1.0          0.032802  \n",
       "2018-05-18     1.0         -0.019353  \n",
       "2018-05-19    -1.0         -0.000459  "
      ]
     },
     "metadata": {},
     "output_type": "display_data"
    }
   ],
   "source": [
    "# Calculate the strategy returns and add them to the signals_df DataFrame\n",
    "signals_df['Strategy_Returns'] = signals_df['Actual_Returns'] * signals_df['Signal'].shift()\n",
    "\n",
    "# Review the DataFrame\n",
    "display(signals_df.head())"
   ]
  },
  {
   "cell_type": "code",
   "execution_count": 14,
   "id": "4096d63b-563f-4d7f-af32-dc294bd6fe15",
   "metadata": {},
   "outputs": [],
   "source": [
    "### Step 3: Split the data into training and testing datasets."
   ]
  },
  {
   "cell_type": "code",
   "execution_count": 15,
   "id": "40b0f41e-a037-4d80-962d-05ca94836614",
   "metadata": {
    "tags": []
   },
   "outputs": [
    {
     "data": {
      "text/html": [
       "<div>\n",
       "<style scoped>\n",
       "    .dataframe tbody tr th:only-of-type {\n",
       "        vertical-align: middle;\n",
       "    }\n",
       "\n",
       "    .dataframe tbody tr th {\n",
       "        vertical-align: top;\n",
       "    }\n",
       "\n",
       "    .dataframe thead th {\n",
       "        text-align: right;\n",
       "    }\n",
       "</style>\n",
       "<table border=\"1\" class=\"dataframe\">\n",
       "  <thead>\n",
       "    <tr style=\"text-align: right;\">\n",
       "      <th></th>\n",
       "      <th>Value</th>\n",
       "      <th>SMA_Fast</th>\n",
       "      <th>SMA_Slow</th>\n",
       "    </tr>\n",
       "    <tr>\n",
       "      <th>Date</th>\n",
       "      <th></th>\n",
       "      <th></th>\n",
       "      <th></th>\n",
       "    </tr>\n",
       "  </thead>\n",
       "  <tbody>\n",
       "    <tr>\n",
       "      <th>2018-05-16</th>\n",
       "      <td>40.0</td>\n",
       "      <td>8614.000000</td>\n",
       "      <td>8901.235811</td>\n",
       "    </tr>\n",
       "    <tr>\n",
       "      <th>2018-05-17</th>\n",
       "      <td>32.0</td>\n",
       "      <td>8579.985107</td>\n",
       "      <td>8896.616611</td>\n",
       "    </tr>\n",
       "    <tr>\n",
       "      <th>2018-05-18</th>\n",
       "      <td>31.0</td>\n",
       "      <td>8422.579956</td>\n",
       "      <td>8885.810708</td>\n",
       "    </tr>\n",
       "    <tr>\n",
       "      <th>2018-05-19</th>\n",
       "      <td>37.0</td>\n",
       "      <td>8306.124878</td>\n",
       "      <td>8885.550308</td>\n",
       "    </tr>\n",
       "    <tr>\n",
       "      <th>2018-05-20</th>\n",
       "      <td>31.0</td>\n",
       "      <td>8240.324829</td>\n",
       "      <td>8898.469404</td>\n",
       "    </tr>\n",
       "  </tbody>\n",
       "</table>\n",
       "</div>"
      ],
      "text/plain": [
       "            Value     SMA_Fast     SMA_Slow\n",
       "Date                                       \n",
       "2018-05-16   40.0  8614.000000  8901.235811\n",
       "2018-05-17   32.0  8579.985107  8896.616611\n",
       "2018-05-18   31.0  8422.579956  8885.810708\n",
       "2018-05-19   37.0  8306.124878  8885.550308\n",
       "2018-05-20   31.0  8240.324829  8898.469404"
      ]
     },
     "execution_count": 15,
     "metadata": {},
     "output_type": "execute_result"
    }
   ],
   "source": [
    "# Assign a copy of the sma_fast and sma_slow columns to a features DataFrame called X\n",
    "X = signals_df[['Value','SMA_Fast', 'SMA_Slow']].shift().dropna()\n",
    "\n",
    "# Review the DataFrame\n",
    "X.head()"
   ]
  },
  {
   "cell_type": "code",
   "execution_count": 16,
   "id": "98b25d0b-67de-490d-8df5-f107f4fcd4a2",
   "metadata": {
    "tags": []
   },
   "outputs": [
    {
     "data": {
      "text/plain": [
       "Signal\n",
       " 1.0    917\n",
       "-1.0    865\n",
       "Name: count, dtype: int64"
      ]
     },
     "execution_count": 16,
     "metadata": {},
     "output_type": "execute_result"
    }
   ],
   "source": [
    "# Create the target set selecting the Signal column and assiging it to y\n",
    "y = signals_df['Signal']\n",
    "\n",
    "# Review the value counts\n",
    "y.value_counts()"
   ]
  },
  {
   "cell_type": "code",
   "execution_count": 17,
   "id": "46af42da-50f3-47af-a8ed-112fbb1d455c",
   "metadata": {
    "tags": []
   },
   "outputs": [
    {
     "name": "stdout",
     "output_type": "stream",
     "text": [
      "2018-05-16 00:00:00\n"
     ]
    }
   ],
   "source": [
    "# Select the start of the training period\n",
    "training_begin = X.index.min()\n",
    "\n",
    "# Display the training begin date\n",
    "print(training_begin)"
   ]
  },
  {
   "cell_type": "code",
   "execution_count": 18,
   "id": "51cd2e3d-0929-47e0-b9b7-2ae1ab45d168",
   "metadata": {
    "tags": []
   },
   "outputs": [
    {
     "name": "stdout",
     "output_type": "stream",
     "text": [
      "2020-05-16 00:00:00\n"
     ]
    }
   ],
   "source": [
    "# Select the ending period for the training data with an offset of 24 months\n",
    "training_end = X.index.min() + DateOffset(months=24)\n",
    "\n",
    "# Display the training end date\n",
    "print(training_end)"
   ]
  },
  {
   "cell_type": "code",
   "execution_count": 19,
   "id": "412d779f-1bff-435d-a363-603f4acd149d",
   "metadata": {
    "tags": []
   },
   "outputs": [
    {
     "data": {
      "text/plain": [
       "Value       732\n",
       "SMA_Fast    732\n",
       "SMA_Slow    732\n",
       "dtype: int64"
      ]
     },
     "execution_count": 19,
     "metadata": {},
     "output_type": "execute_result"
    }
   ],
   "source": [
    "# Generate the X_train and y_train DataFrames\n",
    "X_train = X.loc[training_begin:training_end]\n",
    "y_train = y.loc[training_begin:training_end]\n",
    "\n",
    "# Review the X_train DataFrame\n",
    "X_train.head()\n",
    "X_train.tail()\n",
    "X_train.count()"
   ]
  },
  {
   "cell_type": "code",
   "execution_count": 20,
   "id": "ae0b72d9-cc59-49c5-88c5-4f0d86e6cb58",
   "metadata": {
    "tags": []
   },
   "outputs": [
    {
     "data": {
      "text/plain": [
       "Value       1050\n",
       "SMA_Fast    1050\n",
       "SMA_Slow    1050\n",
       "dtype: int64"
      ]
     },
     "execution_count": 20,
     "metadata": {},
     "output_type": "execute_result"
    }
   ],
   "source": [
    "# Generate the X_test and y_test DataFrames\n",
    "X_test = X.loc[training_end+DateOffset(months=0):]\n",
    "y_test = y.loc[training_end+DateOffset(months=0):]\n",
    "\n",
    "# Review the X_test DataFrame\n",
    "X_test.head()\n",
    "X_test.tail()\n",
    "X_test.count()"
   ]
  },
  {
   "cell_type": "code",
   "execution_count": 21,
   "id": "d3b150f5-06e1-479c-bec6-e42e6416f87c",
   "metadata": {
    "tags": []
   },
   "outputs": [],
   "source": [
    "# Scale the features DataFrames\n",
    "\n",
    "# Create a StandardScaler instance\n",
    "scaler = StandardScaler()\n",
    "\n",
    "# Apply the scaler model to fit the X-train data\n",
    "X_scaler = scaler.fit(X_train)\n",
    "\n",
    "# Transform the X_train and X_test DataFrames using the X_scaler\n",
    "X_train_scaled = X_scaler.transform(X_train)\n",
    "X_test_scaled = X_scaler.transform(X_test)"
   ]
  },
  {
   "cell_type": "code",
   "execution_count": 22,
   "id": "971a3a5e-88ad-46ac-8dd1-eb804f05a92d",
   "metadata": {},
   "outputs": [],
   "source": [
    "### Step 4: Use the `SVC` classifier model from SKLearn's support vector machine (SVM) learning method to fit the training data and make predictions based on the testing data."
   ]
  },
  {
   "cell_type": "code",
   "execution_count": 23,
   "id": "1abbc034-b6d8-4b90-8cbd-41c04ba90b98",
   "metadata": {
    "tags": []
   },
   "outputs": [
    {
     "data": {
      "text/plain": [
       "array([-1., -1., -1., -1., -1., -1., -1., -1., -1., -1.])"
      ]
     },
     "execution_count": 23,
     "metadata": {},
     "output_type": "execute_result"
    }
   ],
   "source": [
    "# From SVM, instantiate SVC classifier model instance\n",
    "from sklearn import svm\n",
    "from sklearn.metrics import classification_report\n",
    "\n",
    "svm_model = svm.SVC()\n",
    " \n",
    "# Fit the model to the data using the training data\n",
    "svm_model = svm_model.fit(X_train_scaled, y_train)\n",
    " \n",
    "# Use the testing data to make the model predictions\n",
    "svm_pred = svm_model.predict(X_train_scaled)\n",
    "\n",
    "# Review the model's predicted values\n",
    "svm_pred[:10]"
   ]
  },
  {
   "cell_type": "code",
   "execution_count": 24,
   "id": "8ead536b-927c-4214-a63b-9c167f7dd656",
   "metadata": {},
   "outputs": [],
   "source": [
    "### Step 5: Review the classification report associated with the `SVC` model predictions. "
   ]
  },
  {
   "cell_type": "code",
   "execution_count": 25,
   "id": "9ec5d20d-2459-4b50-bec1-b735f1964d1c",
   "metadata": {
    "tags": []
   },
   "outputs": [
    {
     "name": "stdout",
     "output_type": "stream",
     "text": [
      "              precision    recall  f1-score   support\n",
      "\n",
      "        -1.0       0.61      0.32      0.42       354\n",
      "         1.0       0.56      0.81      0.66       378\n",
      "\n",
      "    accuracy                           0.57       732\n",
      "   macro avg       0.58      0.56      0.54       732\n",
      "weighted avg       0.58      0.57      0.55       732\n",
      "\n"
     ]
    }
   ],
   "source": [
    "# Use the trained model to predict the trading signals for the testing data.\n",
    "testing_signal_training = svm_model.predict(X_train_scaled)\n",
    "\n",
    "# Use a classification report to evaluate the model using the predictions and testing data\n",
    "svm_training_report = classification_report(y_train, testing_signal_training)\n",
    "\n",
    "# Print the classification report\n",
    "print(svm_training_report)"
   ]
  },
  {
   "cell_type": "code",
   "execution_count": 26,
   "id": "2bdbb930-cd7e-43eb-9505-22644dacdeb3",
   "metadata": {
    "tags": []
   },
   "outputs": [
    {
     "name": "stdout",
     "output_type": "stream",
     "text": [
      "              precision    recall  f1-score   support\n",
      "\n",
      "        -1.0       0.43      0.10      0.16       510\n",
      "         1.0       0.51      0.88      0.64       540\n",
      "\n",
      "    accuracy                           0.50      1050\n",
      "   macro avg       0.47      0.49      0.40      1050\n",
      "weighted avg       0.47      0.50      0.41      1050\n",
      "\n"
     ]
    }
   ],
   "source": [
    "# Use the trained model to predict the trading signals for the testing data.\n",
    "testing_signal_predictions = svm_model.predict(X_test_scaled)\n",
    "\n",
    "# Use a classification report to evaluate the model using the predictions and testing data\n",
    "svm_testing_report = classification_report(y_test, testing_signal_predictions)\n",
    "\n",
    "# Print the classification report\n",
    "print(svm_testing_report)"
   ]
  },
  {
   "cell_type": "code",
   "execution_count": 27,
   "id": "0fdde7a6-c85e-41d2-9673-b6269aefa866",
   "metadata": {},
   "outputs": [],
   "source": [
    "### Step 6: Create a predictions DataFrame that contains columns for “Predicted” values, “Actual Returns”, and “Strategy Returns”."
   ]
  },
  {
   "cell_type": "code",
   "execution_count": 28,
   "id": "3ce726ff-fb5f-452b-9a21-0be5ac5abdc7",
   "metadata": {
    "tags": []
   },
   "outputs": [
    {
     "data": {
      "text/html": [
       "<div>\n",
       "<style scoped>\n",
       "    .dataframe tbody tr th:only-of-type {\n",
       "        vertical-align: middle;\n",
       "    }\n",
       "\n",
       "    .dataframe tbody tr th {\n",
       "        vertical-align: top;\n",
       "    }\n",
       "\n",
       "    .dataframe thead th {\n",
       "        text-align: right;\n",
       "    }\n",
       "</style>\n",
       "<table border=\"1\" class=\"dataframe\">\n",
       "  <thead>\n",
       "    <tr style=\"text-align: right;\">\n",
       "      <th></th>\n",
       "      <th>Predicted</th>\n",
       "      <th>Actual_Returns</th>\n",
       "      <th>Strategy_Returns</th>\n",
       "    </tr>\n",
       "    <tr>\n",
       "      <th>Date</th>\n",
       "      <th></th>\n",
       "      <th></th>\n",
       "      <th></th>\n",
       "    </tr>\n",
       "  </thead>\n",
       "  <tbody>\n",
       "    <tr>\n",
       "      <th>2023-03-22</th>\n",
       "      <td>1.0</td>\n",
       "      <td>-0.030820</td>\n",
       "      <td>-0.030820</td>\n",
       "    </tr>\n",
       "    <tr>\n",
       "      <th>2023-03-23</th>\n",
       "      <td>1.0</td>\n",
       "      <td>0.037592</td>\n",
       "      <td>0.037592</td>\n",
       "    </tr>\n",
       "    <tr>\n",
       "      <th>2023-03-24</th>\n",
       "      <td>1.0</td>\n",
       "      <td>-0.029671</td>\n",
       "      <td>-0.029671</td>\n",
       "    </tr>\n",
       "    <tr>\n",
       "      <th>2023-03-25</th>\n",
       "      <td>1.0</td>\n",
       "      <td>0.000052</td>\n",
       "      <td>0.000052</td>\n",
       "    </tr>\n",
       "    <tr>\n",
       "      <th>2023-03-26</th>\n",
       "      <td>1.0</td>\n",
       "      <td>0.018172</td>\n",
       "      <td>0.018172</td>\n",
       "    </tr>\n",
       "    <tr>\n",
       "      <th>2023-03-27</th>\n",
       "      <td>1.0</td>\n",
       "      <td>-0.030522</td>\n",
       "      <td>-0.030522</td>\n",
       "    </tr>\n",
       "    <tr>\n",
       "      <th>2023-03-28</th>\n",
       "      <td>1.0</td>\n",
       "      <td>0.004725</td>\n",
       "      <td>0.004725</td>\n",
       "    </tr>\n",
       "    <tr>\n",
       "      <th>2023-03-29</th>\n",
       "      <td>1.0</td>\n",
       "      <td>0.039618</td>\n",
       "      <td>0.039618</td>\n",
       "    </tr>\n",
       "    <tr>\n",
       "      <th>2023-03-30</th>\n",
       "      <td>1.0</td>\n",
       "      <td>-0.011107</td>\n",
       "      <td>-0.011107</td>\n",
       "    </tr>\n",
       "    <tr>\n",
       "      <th>2023-03-31</th>\n",
       "      <td>1.0</td>\n",
       "      <td>0.015871</td>\n",
       "      <td>0.015871</td>\n",
       "    </tr>\n",
       "  </tbody>\n",
       "</table>\n",
       "</div>"
      ],
      "text/plain": [
       "            Predicted  Actual_Returns  Strategy_Returns\n",
       "Date                                                   \n",
       "2023-03-22        1.0       -0.030820         -0.030820\n",
       "2023-03-23        1.0        0.037592          0.037592\n",
       "2023-03-24        1.0       -0.029671         -0.029671\n",
       "2023-03-25        1.0        0.000052          0.000052\n",
       "2023-03-26        1.0        0.018172          0.018172\n",
       "2023-03-27        1.0       -0.030522         -0.030522\n",
       "2023-03-28        1.0        0.004725          0.004725\n",
       "2023-03-29        1.0        0.039618          0.039618\n",
       "2023-03-30        1.0       -0.011107         -0.011107\n",
       "2023-03-31        1.0        0.015871          0.015871"
      ]
     },
     "metadata": {},
     "output_type": "display_data"
    }
   ],
   "source": [
    "# Create a new empty predictions DataFrame:\n",
    "predictions_df = pd.DataFrame(index=X_test.index)\n",
    "\n",
    "# Create a predictions DataFrame\n",
    "predictions_df = pd.DataFrame(index=X_test.index)\n",
    "\n",
    "# Add the SVM model predictions to the DataFrame\n",
    "predictions_df[\"Predicted\"] = testing_signal_predictions\n",
    "\n",
    "# Add the actual returns to the DataFrame\n",
    "predictions_df[\"Actual_Returns\"] = signals_df[\"Actual_Returns\"]\n",
    "\n",
    "# Add the strategy returns to the DataFrame\n",
    "predictions_df[\"Strategy_Returns\"] = (\n",
    "    predictions_df[\"Actual_Returns\"] * predictions_df[\"Predicted\"]\n",
    ")\n",
    "\n",
    "# Review the DataFrame\n",
    "display(predictions_df.tail(10))"
   ]
  },
  {
   "cell_type": "code",
   "execution_count": 29,
   "id": "7dfc4fcf-fe89-45cf-ab1f-58dd4a5c1e4a",
   "metadata": {},
   "outputs": [],
   "source": [
    "### Step 7: Create a cumulative return plot that shows the actual returns vs. the strategy returns. Save a PNG image of this plot. This will serve as a baseline against which to compare the effects of tuning the trading algorithm."
   ]
  },
  {
   "cell_type": "code",
   "execution_count": 30,
   "id": "4d03050c-6414-49a8-b725-fad373fbf1d4",
   "metadata": {
    "tags": []
   },
   "outputs": [
    {
     "data": {
      "text/plain": [
       "<Axes: xlabel='Date'>"
      ]
     },
     "execution_count": 30,
     "metadata": {},
     "output_type": "execute_result"
    },
    {
     "data": {
      "image/png": "[encoded data removed]",
      "text/plain": [
       "<Figure size 640x480 with 1 Axes>"
      ]
     },
     "metadata": {},
     "output_type": "display_data"
    }
   ],
   "source": [
    "# Plot the actual returns versus the strategy returns\n",
    "(1 + predictions_df[[\"Actual_Returns\", \"Strategy_Returns\"]]).cumprod().plot()"
   ]
  },
  {
   "cell_type": "code",
   "execution_count": 31,
   "id": "f535df80-8088-49f7-b558-27c47bc98a62",
   "metadata": {},
   "outputs": [
    {
     "ename": "KeyboardInterrupt",
     "evalue": "",
     "output_type": "error",
     "traceback": [
      "\u001b[1;31m---------------------------------------------------------------------------\u001b[0m",
      "\u001b[1;31mKeyboardInterrupt\u001b[0m                         Traceback (most recent call last)",
      "Cell \u001b[1;32mIn[31], line 23\u001b[0m\n\u001b[0;32m     17\u001b[0m \u001b[38;5;66;03m# if using live hourly data use this\u001b[39;00m\n\u001b[0;32m     18\u001b[0m \u001b[38;5;66;03m# sliced_df = predictions_df[\"Predicted\"].loc[f'{current_date} {current_hour}':]\u001b[39;00m\n\u001b[0;32m     20\u001b[0m \u001b[38;5;28;01mwhile\u001b[39;00m \u001b[38;5;28;01mTrue\u001b[39;00m:\n\u001b[0;32m     21\u001b[0m     \u001b[38;5;66;03m# sliced_df contains our predictions for the training set\u001b[39;00m\n\u001b[0;32m     22\u001b[0m     \u001b[38;5;66;03m# You may adjust this based on your specific signal values (e.g., -1 for sell, 1 for buy, 0 for hold)\u001b[39;00m\n\u001b[1;32m---> 23\u001b[0m     \u001b[38;5;28;01mfor\u001b[39;00m i, signal \u001b[38;5;129;01min\u001b[39;00m \u001b[38;5;28;43menumerate\u001b[39;49m\u001b[43m(\u001b[49m\u001b[43msliced_df\u001b[49m\u001b[43m)\u001b[49m:\n\u001b[0;32m     24\u001b[0m         \u001b[38;5;28;01mif\u001b[39;00m signal \u001b[38;5;241m==\u001b[39m \u001b[38;5;241m1\u001b[39m:  \u001b[38;5;66;03m# Buy signal\u001b[39;00m\n\u001b[0;32m     25\u001b[0m             \u001b[38;5;66;03m# Place a market order to buy\u001b[39;00m\n\u001b[0;32m     26\u001b[0m             api\u001b[38;5;241m.\u001b[39msubmit_order(\n\u001b[0;32m     27\u001b[0m                 symbol\u001b[38;5;241m=\u001b[39m\u001b[38;5;124m'\u001b[39m\u001b[38;5;124mBTCUSD\u001b[39m\u001b[38;5;124m'\u001b[39m,  \u001b[38;5;66;03m# Replace with the stock symbol you want to trade\u001b[39;00m\n\u001b[0;32m     28\u001b[0m                 qty\u001b[38;5;241m=\u001b[39m\u001b[38;5;241m1\u001b[39m,  \u001b[38;5;66;03m# Adjust the quantity based on your strategy\u001b[39;00m\n\u001b[1;32m   (...)\u001b[0m\n\u001b[0;32m     31\u001b[0m                 time_in_force\u001b[38;5;241m=\u001b[39m\u001b[38;5;124m'\u001b[39m\u001b[38;5;124mgtc\u001b[39m\u001b[38;5;124m'\u001b[39m\n\u001b[0;32m     32\u001b[0m             )\n",
      "File \u001b[1;32mc:\\Users\\chris\\anaconda3\\envs\\dev\\lib\\site-packages\\pandas\\core\\base.py:858\u001b[0m, in \u001b[0;36mIndexOpsMixin.__iter__\u001b[1;34m(self)\u001b[0m\n\u001b[0;32m    837\u001b[0m \u001b[38;5;250m\u001b[39m\u001b[38;5;124;03m\"\"\"\u001b[39;00m\n\u001b[0;32m    838\u001b[0m \u001b[38;5;124;03mReturn an iterator of the values.\u001b[39;00m\n\u001b[0;32m    839\u001b[0m \n\u001b[1;32m   (...)\u001b[0m\n\u001b[0;32m    855\u001b[0m \u001b[38;5;124;03m3\u001b[39;00m\n\u001b[0;32m    856\u001b[0m \u001b[38;5;124;03m\"\"\"\u001b[39;00m\n\u001b[0;32m    857\u001b[0m \u001b[38;5;66;03m# We are explicitly making element iterators.\u001b[39;00m\n\u001b[1;32m--> 858\u001b[0m \u001b[38;5;28;01mif\u001b[39;00m \u001b[38;5;129;01mnot\u001b[39;00m \u001b[38;5;28misinstance\u001b[39m(\u001b[38;5;28mself\u001b[39m\u001b[38;5;241m.\u001b[39m_values, np\u001b[38;5;241m.\u001b[39mndarray):\n\u001b[0;32m    859\u001b[0m     \u001b[38;5;66;03m# Check type instead of dtype to catch DTA/TDA\u001b[39;00m\n\u001b[0;32m    860\u001b[0m     \u001b[38;5;28;01mreturn\u001b[39;00m \u001b[38;5;28miter\u001b[39m(\u001b[38;5;28mself\u001b[39m\u001b[38;5;241m.\u001b[39m_values)\n\u001b[0;32m    861\u001b[0m \u001b[38;5;28;01melse\u001b[39;00m:\n",
      "\u001b[1;31mKeyboardInterrupt\u001b[0m: "
     ]
    }
   ],
   "source": [
    "import alpaca_trade_api as tradeapi\n",
    "from datetime import datetime, timedelta\n",
    "import time\n",
    "\n",
    "# Initialize Alpaca API\n",
    "api = tradeapi.REST('PKD8BNDR0EC8XAJCLZDY', 'gAgLE5vv1g90cncwc0SQO4K13TeeFwI2gr7caf7p', base_url='https://paper-api.alpaca.markets')  # Use the paper trading API for testing\n",
    "\n",
    "# Get the current date and time\n",
    "current_datetime = datetime.now()\n",
    "#current_date = current_datetime.strftime('%Y-%m-%d')\n",
    "current_hour = current_datetime.strftime('%H:%M:%S')\n",
    "start_datetime = current_datetime - timedelta(days=30)\n",
    "\n",
    "# Slicing by current date minus 30 days in the past to make our data and hour\n",
    "sliced_df = predictions_df[\"Predicted\"].loc[f'{start_datetime} {current_hour}':]\n",
    "\n",
    "# if using live hourly data use this\n",
    "# sliced_df = predictions_df[\"Predicted\"].loc[f'{current_date} {current_hour}':]\n",
    "\n",
    "while True:\n",
    "    # Get account information to check available quantity of BTCUSD\n",
    "    position_info = api.get_position('ETHUSD')\n",
    "    btcusd_qty_available = float(position_info.qty)\n",
    "    # sliced_df contains our predictions for the training set\n",
    "    # You may adjust this based on your specific signal values (e.g., -1 for sell, 1 for buy, 0 for hold)\n",
    "    for i, signal in enumerate(sliced_df):\n",
    "        if signal == 1 and btcusd_qty_available > 0:  # Buy signal and available quantity is greater than 0\n",
    "            # Place a market order to buy\n",
    "            api.submit_order(\n",
    "                symbol='ETHUSD',  # Replace with the stock symbol you want to trade\n",
    "                qty=1,  # Adjust the quantity based on your strategy\n",
    "                side='buy',\n",
    "                type='market',\n",
    "                time_in_force='gtc'\n",
    "            )\n",
    "        elif signal == -1 and btcusd_qty_available > 0:  # Sell signal and available quantity is greater than 0\n",
    "            # Place a market order to sell\n",
    "            api.submit_order(\n",
    "                symbol='ETHUSD',\n",
    "                qty=1,\n",
    "                side='sell',\n",
    "                type='market',\n",
    "                time_in_force='gtc'\n",
    "        )\n",
    "        # Sleep for a specific duration (adjust as needed)\n",
    "        time.sleep(60) # Sleep for 60 seconds\n",
    "        #time.sleep(3600) # Sleep for 1 hour to mimic dataset hourly data"
   ]
  }
 ],
 "metadata": {
  "kernelspec": {
   "display_name": "Python 3 (ipykernel)",
   "language": "python",
   "name": "python3"
  },
  "language_info": {
   "codemirror_mode": {
    "name": "ipython",
    "version": 3
   },
   "file_extension": ".py",
   "mimetype": "text/x-python",
   "name": "python",
   "nbconvert_exporter": "python",
   "pygments_lexer": "ipython3",
   "version": "3.10.13"
  }
 },
 "nbformat": 4,
 "nbformat_minor": 5
}
