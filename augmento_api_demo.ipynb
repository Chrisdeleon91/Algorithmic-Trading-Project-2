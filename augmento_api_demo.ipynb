{
 "cells": [
  {
   "cell_type": "code",
   "execution_count": null,
   "metadata": {},
   "outputs": [],
   "source": [
    "import requests\n",
    "\n",
    "# Replace 'your_api_key' with the actual API key you obtained from Augmento\n",
    "api_key = 'your_api_key'\n",
    "\n",
    "# Base URL for the Augmento API\n",
    "base_url = 'https://api.augmento.ai/v0.1'\n",
    "\n",
    "# Endpoint for historical signals\n",
    "endpoint = '/coins'\n",
    "\n",
    "# Construct the complete URL\n",
    "url = f'{base_url}{endpoint}'\n",
    "\n",
    "# Define parameters for the request\n",
    "params = {\n",
    "    'api_key': api_key,\n",
    "    'symbol': 'BTCUSD',  # Replace with the desired trading pair symbol\n",
    "    'start_timestamp': 1641235200,  # Replace with the start timestamp\n",
    "    'end_timestamp': 1641321600,    # Replace with the end timestamp\n",
    "}\n",
    "\n",
    "# Make the GET request to the Augmento API\n",
    "response = requests.get(url, params=params)\n",
    "\n",
    "# Check if the request was successful (status code 200)\n",
    "if response.status_code == 200:\n",
    "    # Parse the JSON response\n",
    "    data = response.json()\n",
    "    # Process the data as needed\n",
    "    print(data)\n",
    "else:\n",
    "    # Print an error message if the request was not successful\n",
    "    print(f\"Error: {response.status_code}, {response.text}\")"
   ]
  }
 ],
 "metadata": {
  "language_info": {
   "name": "python"
  }
 },
 "nbformat": 4,
 "nbformat_minor": 2
}
